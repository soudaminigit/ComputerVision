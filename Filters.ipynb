#Program for using Guassian Blur technique, Erode Filter, Dialation Filter
import numpy as np
import cv2
from numpy import array 
from google.colab.patches import cv2_imshow


#Kernel should have odd no of rows and columns hence the center would be clear
#The bigger the kernel is, the more the image is blurred
blur = cv2.GaussianBlur(image, (5,55),0)
print("Gaussian Blur")
cv2_imshow(blur)
#Reduce the filter size
blur = cv2.GaussianBlur(image, (5,9),0)
print("Gaussian Blur with small filter")
cv2_imshow(blur)

kernel = np.ones((5,5),'uint8')

dilate = cv2.dilate(image,kernel,iterations=1)
erode = cv2.erode(image,kernel,iterations=1)
print("After Dilation")
cv2_imshow(dilate)
print("After Erode Filter")
cv2_imshow(erode)

cv2.waitKey(0)
cv2.destroyAllWindows()
