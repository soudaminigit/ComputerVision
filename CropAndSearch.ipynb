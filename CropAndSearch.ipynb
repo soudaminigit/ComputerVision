import scipy.signal as sp
import numpy as np
import cv2
from numpy import array 
from google.colab.patches import cv2_imshow


image = cv2.imread(image_path+'/image1.jpg')
def draw_bounding_box(img, x,y,w,h):
    dupicate = img.copy()
    cv2.line(dupicate, (x,y), (x+w,y), color = (0,0,255), thickness = 2)
    cv2.line(dupicate, (x,y), (x,y+h), color = (0,0,255), thickness = 2)
    cv2.line(dupicate, (x,y+h), (x+w,y+h), color = (0,0,255), thickness = 2)
    cv2.line(dupicate, (x+w,y), (x+w,y+h), color = (0,0,255), thickness = 2)
    
    return dupicate

#Select a particular area of the image with coordinates (x,y) width w, height h

x = 135; y =135; w = 150; h = 70;
img = draw_bounding_box(image, x , y, w , h) 
cv2_imshow(img)
# Pixel position of the top-left coordinate of the bounding box is represented by x and y
# Height and weight of the bounding box is represented by w and h


cropped_img = image[y:y+h, x:x+w]
print("Cropped Image")
cv2_imshow(cropped_img)



# Find template 2D
def find_template_2D(template, img):
  #correlate2d(in1, in2, mode='same', boundary='fill', fillvalue=0)
    c = sp.correlate2d(img, template, mode='same')

    # These y, x coordinates represent the peak. This point needs to be
    
    y, x = np.unravel_index(np.argmax(c), c.shape)
    return y - template.shape[0] // 2, x - template.shape[1] // 2

scene =  cv2.imread(image_path+'/devon.jpg',0)

building = cv2.imread(image_path+'slice.png',0)
cv2_imshow(scene)
cv2_imshow(building)
scene_2 = 1. * scene - np.mean(scene)
building_2 = 1. * building - np.mean(building)

y, x = find_template_2D(building_2, scene_2)

tablet_copy = cv2.cvtColor(scene, code=cv2.COLOR_GRAY2BGR)
cv2.rectangle(tablet_copy, (x, y), (x + building.shape[1], y + building.shape[0]), (0, 0, 255), thickness=2)
cv2_imshow(tablet_copy)
