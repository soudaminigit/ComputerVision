#Running Erode and Dialation Filters
#Read any image im1.jpg

image = cv2.imread('img1.jpg')

print("Original Image")
cv2_imshow(image)
#Kernel should have odd no of rows and columns hence the center would be clear
#The bigger the kernel is, the more the image is blurred
blur = cv2.GaussianBlur(image, (5,55),0)
print("Gaussian Blur")
cv2_imshow(blur)
#Reduce the filter size
blur = cv2.GaussianBlur(image, (5,9),0)
print("Gaussian Blur with small filter")
cv2_imshow(blur)

#Thresholding for converting a grey scale image to binary image
kernel = np.ones((5,5),'uint8')

dilate = cv2.dilate(image,kernel,iterations=1)
erode = cv2.erode(image,kernel,iterations=1)
print("After Dilation")
cv2_imshow(dilate)
print("After Erode Filter")
cv2_imshow(erode)

bw = cv2.imread(image_path+'blob.png',0)
height, width = bw.shape[0:2]
print("Original Image")
cv2_imshow(bw)

binary = np.zeros([height,width,1],'uint8')

#Setting the threshold to 85 (between 1 and 255) for converting to white/black pixel
thresh = 85

for row in range(0,height):
    for col in range(0, width):
		    
        if bw[row][col]>thresh:
            binary[row][col]=255

print("Slow Binary")
cv2_imshow(binary)

ret, thresh = cv2.threshold(bw,thresh,255,cv2.THRESH_BINARY)

#Adaptive Thresholding for dynamically fixing the theshold
img = cv2.imread(image_path+'blob.png',0)
cv2_imshow(img)
#(image,blocksize,mode)
ret, thresh_basic = cv2.threshold(img,70,255,cv2.THRESH_BINARY)
print("Basic Binary")
cv2_imshow(thresh_basic)
#ADAPTIVE_THRESH_GUASSIAN: The threshold value is a gaussian-weighted sum of the neighbourhood values minus the constant C.
#Calling Adaptive Thresholding with Block size =115, constant C=1
thres_adapt = cv2.adaptiveThreshold(img, 255, cv2.ADAPTIVE_THRESH_GAUSSIAN_C, cv2.THRESH_BINARY, 115, 1)
print("Adaptive Threshold")
cv2_imshow(thres_adapt)

cv2.waitKey(0)
cv2.destroyAllWindows()
