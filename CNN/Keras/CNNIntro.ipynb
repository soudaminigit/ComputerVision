{
 "cells": [
  {
   "cell_type": "markdown",
   "metadata": {
    "id": "JBlfi38bGitr"
   },
   "source": [
    "Below are the key function froms keras, which will be used throughout the course.\n",
    "\n",
    "\n",
    "---\n",
    "\n",
    "\n",
    "**Dense()**\n",
    "This function will be used to create our regular densely-connected neural network layer. There are many parameters accepted by this function, but we will mainly use the parameters below:\n",
    "\n",
    "units - the number of neurons (nodes) in a layer. In other words, the dimensionality of output space.\n",
    "activation - the type of activation function for this layer. We will discuss the types of activation functions last.\n",
    "\n",
    "\n",
    "---\n",
    "\n",
    "\n",
    "**Dropout**()\n",
    "The dropout layer randomly sets the neurons or nodes of a layer to 0 with a frequency of the rate at each step during training time, which helps prevent overfitting. We pass the value of rate as a parameter, i.e., how many neurons in a layer we want to be set to 0.\n",
    "\n",
    "\n",
    "---\n",
    "\n",
    "\n",
    "**Flatten**()\n",
    "This function is used to convert the shape of the data to a single column vector. For example, after passing the input to the dropout layer, we get a shape of (1, 10, 64) then, after applying the flattening we get the shape as (640,).\n",
    "\n",
    "\n",
    "---\n",
    "\n",
    "\n",
    "**Conv2D**()\n",
    "This layer creates a convolution kernel that is convolved with the layer input to produce a tensor of outputs. In other words, this function is used to perform the convolution operation on the data. There are many parameters accepted by this function but we will mainly use the following parameters:\n",
    "\n",
    "filters - the number of filters we need or the number of feature maps we want after performing the convolution step.\n",
    "kernel_size - the size of the filter. In the project below, we will see what type of values we should give for better performance.\n",
    "activation - the type of activation function for this layer. We will discuss the types of activation functions last.\n",
    "input_shape - the shape of the input that our model will expect. When we use the layer as the first layer in a model, we need to provide the keyword argument input_shape at that time only. For colored images, we will pass a tuple of three values (three dimensions) because colored images have three color channels.\n",
    "\n",
    "\n",
    "---\n",
    "\n",
    "\n",
    "**MaxPooling2D**()\n",
    "This function performs the max pooling operation. There are many parameters accepted by this function, but we will mainly use the following parameter:\n",
    "\n",
    "pool_size - the window size over which to take the maximum. If we pass (2, 2) as the value for this parameter, then we will take the max value over a 2 x 2 pooling window.\n",
    "\n",
    "\n",
    "\n",
    "---\n",
    "\n",
    "\n",
    "**Key optimizers**\n",
    "Whenever we compile our model, we need to pass the value of the optimizer parameter in the compile() function. Below are some of the most often used optimizers.\n",
    "\n",
    "adam optimizer\n",
    "This is the optimizer that implements the Adam algorithm. Adam optimization is a stochastic gradient descent method that is based on an adaptive estimation of first-order and second-order moments.\n",
    "\n",
    "sgd optimizer\n",
    "This is a variation of the gradient descent algorithm. It is essentially gradient descent (with momentum) optimizer.\n",
    "\n",
    "RMSprop optimizer\n",
    "This optimizer implements the RMSprop algorithm. The goal of RMSprop is to:\n",
    "\n",
    "Maintain a moving (discounted) average of the square of gradients.\n",
    "Divide the gradient by the root of this average.\n",
    "This implementation of RMSprop uses plain momentum, not Nesterov momentum.\n",
    "\n",
    "\n",
    "---\n",
    "\n",
    "\n",
    "\n",
    "**Key activation functions**\n",
    "Below are the key activation functions that are most often used. These have also been used throughout the course.\n",
    "\n",
    "sigmoid activation\n",
    "The sigmoid activation function always returns a value between 0 and 1. Whenever we are working on binary classification, we can use this activation. The mathematical formula is:\n",
    "\n",
    "sigmoid(x) = \\frac{1}{(1 + e^{-x})}\n",
    "sigmoid(x)= \n",
    "(1+e −x)1\n",
    "​\n",
    "\n",
    "softmax activation\n",
    "Softmax converts a real vector to a vector of categorical probabilities. The elements of the output vector are in range (0, 1) and sum to 1. Each vector is handled independently. If we are working with more than two-class classification problems, then we will use softmax as it provides the probability for each of the classes. We can take that class which has the highest probability as our final prediction.\n",
    "\n",
    "tanh activation\n",
    "This is the hyperbolic tangent activation function. It returns a value in the range (-1, 1).\n",
    "\n",
    "ReLU activation\n",
    "It stands for the Rectified Linear Unit. This activation function returns the element-wise maximum of 0 and the input tensor. The mathematical formula is:\n",
    "\n",
    "ReLU = max(x, 0)\n",
    "ReLU=max(x,0), where x = input tensor"
   ]
  },
  {
   "cell_type": "code",
   "execution_count": null,
   "metadata": {
    "colab": {
     "base_uri": "https://localhost:8080/"
    },
    "executionInfo": {
     "elapsed": 7158,
     "status": "ok",
     "timestamp": 1647440823579,
     "user": {
      "displayName": "Asha S",
      "photoUrl": "https://lh3.googleusercontent.com/a/default-user=s64",
      "userId": "04893217347720392044"
     },
     "user_tz": -330
    },
    "id": "6I2DZIitGfBE",
    "outputId": "7921bfd0-47ef-4072-965b-b78b280be0a7"
   },
   "outputs": [
    {
     "name": "stdout",
     "output_type": "stream",
     "text": [
      "Requirement already satisfied: tensorflow in /usr/local/lib/python3.7/dist-packages (2.8.0)\n",
      "Requirement already satisfied: flatbuffers>=1.12 in /usr/local/lib/python3.7/dist-packages (from tensorflow) (2.0)\n",
      "Requirement already satisfied: wrapt>=1.11.0 in /usr/local/lib/python3.7/dist-packages (from tensorflow) (1.13.3)\n",
      "Requirement already satisfied: setuptools in /usr/local/lib/python3.7/dist-packages (from tensorflow) (57.4.0)\n",
      "Requirement already satisfied: google-pasta>=0.1.1 in /usr/local/lib/python3.7/dist-packages (from tensorflow) (0.2.0)\n",
      "Requirement already satisfied: typing-extensions>=3.6.6 in /usr/local/lib/python3.7/dist-packages (from tensorflow) (3.10.0.2)\n",
      "Requirement already satisfied: keras-preprocessing>=1.1.1 in /usr/local/lib/python3.7/dist-packages (from tensorflow) (1.1.2)\n",
      "Requirement already satisfied: astunparse>=1.6.0 in /usr/local/lib/python3.7/dist-packages (from tensorflow) (1.6.3)\n",
      "Requirement already satisfied: grpcio<2.0,>=1.24.3 in /usr/local/lib/python3.7/dist-packages (from tensorflow) (1.44.0)\n",
      "Requirement already satisfied: tensorflow-io-gcs-filesystem>=0.23.1 in /usr/local/lib/python3.7/dist-packages (from tensorflow) (0.24.0)\n",
      "Requirement already satisfied: opt-einsum>=2.3.2 in /usr/local/lib/python3.7/dist-packages (from tensorflow) (3.3.0)\n",
      "Requirement already satisfied: absl-py>=0.4.0 in /usr/local/lib/python3.7/dist-packages (from tensorflow) (1.0.0)\n",
      "Requirement already satisfied: numpy>=1.20 in /usr/local/lib/python3.7/dist-packages (from tensorflow) (1.21.5)\n",
      "Requirement already satisfied: tf-estimator-nightly==2.8.0.dev2021122109 in /usr/local/lib/python3.7/dist-packages (from tensorflow) (2.8.0.dev2021122109)\n",
      "Requirement already satisfied: protobuf>=3.9.2 in /usr/local/lib/python3.7/dist-packages (from tensorflow) (3.17.3)\n",
      "Requirement already satisfied: libclang>=9.0.1 in /usr/local/lib/python3.7/dist-packages (from tensorflow) (13.0.0)\n",
      "Requirement already satisfied: termcolor>=1.1.0 in /usr/local/lib/python3.7/dist-packages (from tensorflow) (1.1.0)\n",
      "Requirement already satisfied: gast>=0.2.1 in /usr/local/lib/python3.7/dist-packages (from tensorflow) (0.5.3)\n",
      "Requirement already satisfied: keras<2.9,>=2.8.0rc0 in /usr/local/lib/python3.7/dist-packages (from tensorflow) (2.8.0)\n",
      "Requirement already satisfied: h5py>=2.9.0 in /usr/local/lib/python3.7/dist-packages (from tensorflow) (3.1.0)\n",
      "Requirement already satisfied: six>=1.12.0 in /usr/local/lib/python3.7/dist-packages (from tensorflow) (1.15.0)\n",
      "Requirement already satisfied: tensorboard<2.9,>=2.8 in /usr/local/lib/python3.7/dist-packages (from tensorflow) (2.8.0)\n",
      "Requirement already satisfied: wheel<1.0,>=0.23.0 in /usr/local/lib/python3.7/dist-packages (from astunparse>=1.6.0->tensorflow) (0.37.1)\n",
      "Requirement already satisfied: cached-property in /usr/local/lib/python3.7/dist-packages (from h5py>=2.9.0->tensorflow) (1.5.2)\n",
      "Requirement already satisfied: markdown>=2.6.8 in /usr/local/lib/python3.7/dist-packages (from tensorboard<2.9,>=2.8->tensorflow) (3.3.6)\n",
      "Requirement already satisfied: werkzeug>=0.11.15 in /usr/local/lib/python3.7/dist-packages (from tensorboard<2.9,>=2.8->tensorflow) (1.0.1)\n",
      "Requirement already satisfied: google-auth<3,>=1.6.3 in /usr/local/lib/python3.7/dist-packages (from tensorboard<2.9,>=2.8->tensorflow) (1.35.0)\n",
      "Requirement already satisfied: requests<3,>=2.21.0 in /usr/local/lib/python3.7/dist-packages (from tensorboard<2.9,>=2.8->tensorflow) (2.23.0)\n",
      "Requirement already satisfied: tensorboard-data-server<0.7.0,>=0.6.0 in /usr/local/lib/python3.7/dist-packages (from tensorboard<2.9,>=2.8->tensorflow) (0.6.1)\n",
      "Requirement already satisfied: tensorboard-plugin-wit>=1.6.0 in /usr/local/lib/python3.7/dist-packages (from tensorboard<2.9,>=2.8->tensorflow) (1.8.1)\n",
      "Requirement already satisfied: google-auth-oauthlib<0.5,>=0.4.1 in /usr/local/lib/python3.7/dist-packages (from tensorboard<2.9,>=2.8->tensorflow) (0.4.6)\n",
      "Requirement already satisfied: pyasn1-modules>=0.2.1 in /usr/local/lib/python3.7/dist-packages (from google-auth<3,>=1.6.3->tensorboard<2.9,>=2.8->tensorflow) (0.2.8)\n",
      "Requirement already satisfied: cachetools<5.0,>=2.0.0 in /usr/local/lib/python3.7/dist-packages (from google-auth<3,>=1.6.3->tensorboard<2.9,>=2.8->tensorflow) (4.2.4)\n",
      "Requirement already satisfied: rsa<5,>=3.1.4 in /usr/local/lib/python3.7/dist-packages (from google-auth<3,>=1.6.3->tensorboard<2.9,>=2.8->tensorflow) (4.8)\n",
      "Requirement already satisfied: requests-oauthlib>=0.7.0 in /usr/local/lib/python3.7/dist-packages (from google-auth-oauthlib<0.5,>=0.4.1->tensorboard<2.9,>=2.8->tensorflow) (1.3.1)\n",
      "Requirement already satisfied: importlib-metadata>=4.4 in /usr/local/lib/python3.7/dist-packages (from markdown>=2.6.8->tensorboard<2.9,>=2.8->tensorflow) (4.11.2)\n",
      "Requirement already satisfied: zipp>=0.5 in /usr/local/lib/python3.7/dist-packages (from importlib-metadata>=4.4->markdown>=2.6.8->tensorboard<2.9,>=2.8->tensorflow) (3.7.0)\n",
      "Requirement already satisfied: pyasn1<0.5.0,>=0.4.6 in /usr/local/lib/python3.7/dist-packages (from pyasn1-modules>=0.2.1->google-auth<3,>=1.6.3->tensorboard<2.9,>=2.8->tensorflow) (0.4.8)\n",
      "Requirement already satisfied: chardet<4,>=3.0.2 in /usr/local/lib/python3.7/dist-packages (from requests<3,>=2.21.0->tensorboard<2.9,>=2.8->tensorflow) (3.0.4)\n",
      "Requirement already satisfied: idna<3,>=2.5 in /usr/local/lib/python3.7/dist-packages (from requests<3,>=2.21.0->tensorboard<2.9,>=2.8->tensorflow) (2.10)\n",
      "Requirement already satisfied: certifi>=2017.4.17 in /usr/local/lib/python3.7/dist-packages (from requests<3,>=2.21.0->tensorboard<2.9,>=2.8->tensorflow) (2021.10.8)\n",
      "Requirement already satisfied: urllib3!=1.25.0,!=1.25.1,<1.26,>=1.21.1 in /usr/local/lib/python3.7/dist-packages (from requests<3,>=2.21.0->tensorboard<2.9,>=2.8->tensorflow) (1.24.3)\n",
      "Requirement already satisfied: oauthlib>=3.0.0 in /usr/local/lib/python3.7/dist-packages (from requests-oauthlib>=0.7.0->google-auth-oauthlib<0.5,>=0.4.1->tensorboard<2.9,>=2.8->tensorflow) (3.2.0)\n",
      "Requirement already satisfied: keras in /usr/local/lib/python3.7/dist-packages (2.8.0)\n",
      "Imported Successfully!\n"
     ]
    }
   ],
   "source": [
    "!pip install tensorflow\n",
    "!pip install keras  --user\n",
    "from keras.preprocessing import image\n",
    "from keras.layers import *\n",
    "from keras.models import * \n",
    "from keras import datasets, layers, models\n",
    "import matplotlib.pyplot as plt\n",
    "import numpy as np \n",
    "print('Imported Successfully!')"
   ]
  },
  {
   "cell_type": "markdown",
   "metadata": {
    "id": "bNbfLrxqH4p4"
   },
   "source": [
    "Creating a CNN\n",
    "The size of the convoluted matrix is given by -\n",
    "\n",
    "C=((I - F + 2P)/S) + 1 where C is the size of the Convoluted matrix, I is the size of the input matrix, F the size of the filter matrix and P the padding applied to the input matrix.\n",
    "\n",
    "Here P=0, I=28, F=7 and S=1. There the answer is 22."
   ]
  },
  {
   "cell_type": "code",
   "execution_count": null,
   "metadata": {
    "id": "QDfqU4OedMmw"
   },
   "outputs": [],
   "source": [
    "cifar10 = tf.keras.datasets.cifar10\n",
    "(X_train, Y_train), (X_test, Y_test) = cifar10.load_data()\n",
    "X_train,X_test = X_train/255.0, X_test/255.0 \n"
   ]
  },
  {
   "cell_type": "code",
   "execution_count": null,
   "metadata": {
    "colab": {
     "base_uri": "https://localhost:8080/"
    },
    "executionInfo": {
     "elapsed": 7,
     "status": "ok",
     "timestamp": 1647440411752,
     "user": {
      "displayName": "Asha S",
      "photoUrl": "https://lh3.googleusercontent.com/a/default-user=s64",
      "userId": "04893217347720392044"
     },
     "user_tz": -330
    },
    "id": "ptTJycRhePQC",
    "outputId": "70baa5d1-5670-4d5b-eac1-98cf38100b94"
   },
   "outputs": [
    {
     "name": "stdout",
     "output_type": "stream",
     "text": [
      "Model: \"sequential_5\"\n",
      "_________________________________________________________________\n",
      " Layer (type)                Output Shape              Param #   \n",
      "=================================================================\n",
      " conv2d_8 (Conv2D)           (None, 30, 30, 32)        896       \n",
      "                                                                 \n",
      " max_pooling2d_6 (MaxPooling  (None, 15, 15, 32)       0         \n",
      " 2D)                                                             \n",
      "                                                                 \n",
      " flatten_4 (Flatten)         (None, 7200)              0         \n",
      "                                                                 \n",
      " dense_6 (Dense)             (None, 10)                72010     \n",
      "                                                                 \n",
      "=================================================================\n",
      "Total params: 72,906\n",
      "Trainable params: 72,906\n",
      "Non-trainable params: 0\n",
      "_________________________________________________________________\n"
     ]
    }
   ],
   "source": [
    "model=models.Sequential()\n",
    "model.add(layers.Conv2D(32,(3,3),activation='relu',input_shape=(32,32,3)))\n",
    "model.add(layers.MaxPooling2D((2,2)))\n",
    "model.add(layers.Flatten())\n",
    "model.add(layers.Dense(10))\n",
    "model.summary()\n",
    "#Try this again with activation functions tanh, sigmoid"
   ]
  },
  {
   "cell_type": "markdown",
   "metadata": {
    "id": "oudyhsRRgUeo"
   },
   "source": [
    "Because no padding was specified in the convolutional layer, the output shape is 30 x 30 (32-3+1)\n",
    "The pooling layer reduces the dimensions by half, hence it becomes 15x15\n",
    "For the final dense layer, its 7200*10+10 (One weight for each conv layer, per class)"
   ]
  },
  {
   "cell_type": "code",
   "execution_count": null,
   "metadata": {
    "id": "QUr4UWprhCg8"
   },
   "outputs": [],
   "source": [
    "predictions=model(X_train[:1]).numpy()\n",
    "predictions\n",
    "loss_fn=tf.keras.losses.SparseCategoricalCrossentropy(from_logits=True)\n",
    "#loss function is used to estimate the loss of model so that weights can be updated in the next iteration.\n",
    "#This loss is equals to negative log probabilty of true classes"
   ]
  },
  {
   "cell_type": "code",
   "execution_count": null,
   "metadata": {
    "colab": {
     "base_uri": "https://localhost:8080/"
    },
    "executionInfo": {
     "elapsed": 383506,
     "status": "ok",
     "timestamp": 1647440795255,
     "user": {
      "displayName": "Asha S",
      "photoUrl": "https://lh3.googleusercontent.com/a/default-user=s64",
      "userId": "04893217347720392044"
     },
     "user_tz": -330
    },
    "id": "tznLbpB-id1e",
    "outputId": "95edc157-d7c3-496e-fd45-2a925cb5319f"
   },
   "outputs": [
    {
     "name": "stdout",
     "output_type": "stream",
     "text": [
      "Epoch 1/10\n",
      "1563/1563 [==============================] - 41s 26ms/step - loss: 1.5005 - accuracy: 0.4739 - val_loss: 1.2691 - val_accuracy: 0.5615\n",
      "Epoch 2/10\n",
      "1563/1563 [==============================] - 51s 32ms/step - loss: 1.2134 - accuracy: 0.5784 - val_loss: 1.1731 - val_accuracy: 0.5903\n",
      "Epoch 3/10\n",
      "1563/1563 [==============================] - 44s 28ms/step - loss: 1.1087 - accuracy: 0.6170 - val_loss: 1.1397 - val_accuracy: 0.6045\n",
      "Epoch 4/10\n",
      "1563/1563 [==============================] - 33s 21ms/step - loss: 1.0420 - accuracy: 0.6403 - val_loss: 1.1094 - val_accuracy: 0.6173\n",
      "Epoch 5/10\n",
      "1563/1563 [==============================] - 33s 21ms/step - loss: 0.9885 - accuracy: 0.6616 - val_loss: 1.0971 - val_accuracy: 0.6143\n",
      "Epoch 6/10\n",
      "1563/1563 [==============================] - 34s 22ms/step - loss: 0.9557 - accuracy: 0.6713 - val_loss: 1.0854 - val_accuracy: 0.6261\n",
      "Epoch 7/10\n",
      "1563/1563 [==============================] - 37s 24ms/step - loss: 0.9169 - accuracy: 0.6846 - val_loss: 1.0635 - val_accuracy: 0.6331\n",
      "Epoch 8/10\n",
      "1563/1563 [==============================] - 33s 21ms/step - loss: 0.8819 - accuracy: 0.6961 - val_loss: 1.0712 - val_accuracy: 0.6291\n",
      "Epoch 9/10\n",
      "1563/1563 [==============================] - 33s 21ms/step - loss: 0.8566 - accuracy: 0.7040 - val_loss: 1.0744 - val_accuracy: 0.6313\n",
      "Epoch 10/10\n",
      "1563/1563 [==============================] - 33s 21ms/step - loss: 0.8298 - accuracy: 0.7130 - val_loss: 1.0866 - val_accuracy: 0.6351\n"
     ]
    }
   ],
   "source": [
    "model.compile(optimizer=\"adam\", loss=loss_fn, metrics=[\"accuracy\"])\n",
    "history=model.fit(X_train,Y_train,epochs=10,validation_data=(X_test,Y_test))"
   ]
  },
  {
   "cell_type": "code",
   "execution_count": null,
   "metadata": {
    "colab": {
     "base_uri": "https://localhost:8080/"
    },
    "executionInfo": {
     "elapsed": 2294,
     "status": "ok",
     "timestamp": 1647440797546,
     "user": {
      "displayName": "Asha S",
      "photoUrl": "https://lh3.googleusercontent.com/a/default-user=s64",
      "userId": "04893217347720392044"
     },
     "user_tz": -330
    },
    "id": "CJWhgfTZjEdu",
    "outputId": "394dc09b-11bb-4562-c967-6e7ece43f23b"
   },
   "outputs": [
    {
     "name": "stdout",
     "output_type": "stream",
     "text": [
      "313/313 - 2s - loss: 1.0866 - accuracy: 0.6351 - 2s/epoch - 6ms/step\n",
      "Test Accuracy 0.6351000070571899\n"
     ]
    }
   ],
   "source": [
    "test_loss,test_acc= model.evaluate(X_test,Y_test,verbose=2)\n",
    "print(\"Test Accuracy\",test_acc)"
   ]
  },
  {
   "cell_type": "code",
   "execution_count": null,
   "metadata": {
    "colab": {
     "base_uri": "https://localhost:8080/",
     "height": 301
    },
    "executionInfo": {
     "elapsed": 2804,
     "status": "ok",
     "timestamp": 1647440800346,
     "user": {
      "displayName": "Asha S",
      "photoUrl": "https://lh3.googleusercontent.com/a/default-user=s64",
      "userId": "04893217347720392044"
     },
     "user_tz": -330
    },
    "id": "ZtdN7lfKjjlM",
    "outputId": "58a0a94a-8650-40d9-f32c-2cd1ceaab1ed"
   },
   "outputs": [
    {
     "name": "stdout",
     "output_type": "stream",
     "text": [
      "313/313 - 2s - loss: 1.0866 - accuracy: 0.6351 - 2s/epoch - 6ms/step\n"
     ]
    },
    {
     "data": {
      "image/png": "[encoded data removed]",
      "text/plain": [
       "<Figure size 432x288 with 1 Axes>"
      ]
     },
     "metadata": {
      "needs_background": "light"
     },
     "output_type": "display_data"
    }
   ],
   "source": [
    "plt.plot(history.history['accuracy'],label='accuracy')\n",
    "plt.plot(history.history['val_accuracy'],label='val_accuracy')\n",
    "plt.xlabel('Epoch')\n",
    "plt.ylabel('Accuracy')\n",
    "plt.ylim([0.5,1])\n",
    "plt.legend(loc='lower right')\n",
    "test_loss,test_acc=model.evaluate(X_test,Y_test,verbose=2)\n"
   ]
  },
  {
   "cell_type": "code",
   "execution_count": null,
   "metadata": {
    "colab": {
     "base_uri": "https://localhost:8080/"
    },
    "executionInfo": {
     "elapsed": 330,
     "status": "ok",
     "timestamp": 1647440833390,
     "user": {
      "displayName": "Asha S",
      "photoUrl": "https://lh3.googleusercontent.com/a/default-user=s64",
      "userId": "04893217347720392044"
     },
     "user_tz": -330
    },
    "id": "hkxDO7_qBt3R",
    "outputId": "7dd5cadd-7fa1-40d0-a38c-70403bb14cfb"
   },
   "outputs": [
    {
     "name": "stdout",
     "output_type": "stream",
     "text": [
      "[3 8 8 8 6 6 1 6 3 1]\n",
      "[[3]\n",
      " [8]\n",
      " [8]\n",
      " [0]\n",
      " [6]\n",
      " [6]\n",
      " [1]\n",
      " [6]\n",
      " [3]\n",
      " [1]]\n"
     ]
    }
   ],
   "source": [
    "probModel = Sequential([model,layers.Softmax()])\n",
    "predictions = probModel.predict(X_test[:10])\n",
    "predictions[0]\n",
    "print(np.argmax(predictions,axis=1))\n",
    "print(Y_test[:10])"
   ]
  },
  {
   "cell_type": "code",
   "execution_count": null,
   "metadata": {
    "colab": {
     "base_uri": "https://localhost:8080/",
     "height": 269
    },
    "executionInfo": {
     "elapsed": 1617,
     "status": "ok",
     "timestamp": 1647440916261,
     "user": {
      "displayName": "Asha S",
      "photoUrl": "https://lh3.googleusercontent.com/a/default-user=s64",
      "userId": "04893217347720392044"
     },
     "user_tz": -330
    },
    "id": "Hre-v5pOFvk1",
    "outputId": "00637093-6e43-4f8f-b010-463f18589328"
   },
   "outputs": [
    {
     "name": "stdout",
     "output_type": "stream",
     "text": [
      "(3, 3, 3, 32)\n"
     ]
    },
    {
     "data": {
      "image/png": "[encoded data removed]",
      "text/plain": [
       "<Figure size 432x288 with 32 Axes>"
      ]
     },
     "metadata": {},
     "output_type": "display_data"
    }
   ],
   "source": [
    "filters,biases = model.layers[0].get_weights()\n",
    "f_min,f_max = filters.min(), filters.max()\n",
    "filters = (filters-f_min)/(f_max-f_min)\n",
    "print(filters.shape)\n",
    "n_filters=32\n",
    "for i in range(n_filters):\n",
    "  f=filters[:,:,:,i]\n",
    "  plt.subplot(4,8,i+1)\n",
    "  plt.xticks([])\n",
    "  plt.yticks([])\n",
    "  plt.grid(False)\n",
    "  plt.xlabel(i)\n",
    "  plt.imshow(f)\n",
    "plt.show()"
   ]
  }
 ],
 "metadata": {
  "colab": {
   "authorship_tag": "ABX9TyPcXriE+Ni2ytxsnEZ96AQ2",
   "collapsed_sections": [],
   "mount_file_id": "1jM3L7DCmnHE82kDTt018Oyy_5jQOu5xy",
   "name": "CNNIntro.ipynb",
   "provenance": []
  },
  "kernelspec": {
   "display_name": "Python 3",
   "language": "python",
   "name": "python3"
  },
  "language_info": {
   "codemirror_mode": {
    "name": "ipython",
    "version": 3
   },
   "file_extension": ".py",
   "mimetype": "text/x-python",
   "name": "python",
   "nbconvert_exporter": "python",
   "pygments_lexer": "ipython3",
   "version": "3.8.5"
  }
 },
 "nbformat": 4,
 "nbformat_minor": 1
}
