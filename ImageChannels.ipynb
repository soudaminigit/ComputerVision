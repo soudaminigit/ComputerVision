#This code works in Google Collab. Replace cv2_imshow with cv2.imshow if you are running locally.
#This program splits an image into RGB and HSV Channels.

#First step is to mount google drive to access the files
from google.colab import drive
drive.mount('/gdrive',force_remount=True)

#import all necessary libraries
import numpy as np
import cv2
from numpy import array 
from google.colab.patches import cv2_imshow

#Copy all the images in /images folder to google drive /images path or choose any other image that you may want
image_path='/content/drive/MyDrive/Images/'

#Split the image to 3 color channels
color = cv2.imread(image_path+'/image.jpg')
cv2_imshow(color)
print(color.shape)
height,width,channels = color.shape

b,g,r = cv2.split(color)

rgb_split = np.empty([height,width*3,3],'uint8')

rgb_split[:, 0:width] = cv2.merge([b,b,b])
rgb_split[:, width:width*2] = cv2.merge([g,g,g])
rgb_split[:, width*2:width*3] = cv2.merge([r,r,r])
print("Split By Color Channels")
cv2_imshow(rgb_split)

#Split the image by HSV channels
#HSV Channels The Hue is the color of the image, the Saturation is the pureness of the hue color, and the value is the strength of the hue. 
hsv = cv2.cvtColor(color, cv2.COLOR_BGR2HSV)
h,s,v = cv2.split(hsv)
hsv_split = np.concatenate((h,s,v),axis=1)
print("Split BY HSV Channels")
cv2_imshow(hsv_split)
cv2.waitKey(0)
cv2.destroyAllWindows()
